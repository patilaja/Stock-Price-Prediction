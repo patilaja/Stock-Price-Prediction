{
 "cells": [
  {
   "cell_type": "markdown",
   "metadata": {},
   "source": [
    "# Stock Prices Prediction - Feature Enginnering\n",
    "\n",
    "* Feature engineering enables you to build more complex models than you could with only raw data. It also allows you to build interpretable models from any amount of data. Feature selection will help you limit these features to a manageable number.\n"
   ]
  },
  {
   "cell_type": "code",
   "execution_count": 1,
   "metadata": {},
   "outputs": [],
   "source": [
    "# Ignore future warnings\n",
    "import warnings\n",
    "warnings.simplefilter(action='ignore', category=FutureWarning)\n",
    "\n",
    "# Import modules\n",
    "import pandas as pd\n",
    "import numpy as np\n",
    "import datetime\n",
    "import os\n",
    "import matplotlib.pyplot as plt\n",
    "import seaborn as sns\n",
    "from sklearn.preprocessing import StandardScaler  \n",
    "from sklearn.decomposition import PCA \n",
    "from sklearn.model_selection import train_test_split\n",
    "\n",
    "%matplotlib inline"
   ]
  },
  {
   "cell_type": "code",
   "execution_count": 2,
   "metadata": {},
   "outputs": [],
   "source": [
    "# Data file paths\n",
    "path = os.path.join('','data/')\n",
    "\n",
    "# Stock data files\n",
    "jpm_stock = path + 'JPM_stock.csv'\n",
    "jpm_div = path + 'JPM_div.csv'\n",
    "jpm_split = path + 'JPM_split.csv'\n",
    "google_stock = path + 'GOOG_stock.csv'\n",
    "google_div = path + 'GOOG_split.csv'"
   ]
  },
  {
   "cell_type": "code",
   "execution_count": 3,
   "metadata": {},
   "outputs": [],
   "source": [
    "# Load stock fils\n",
    "jpm_df = pd.read_csv(jpm_stock, parse_dates=[0])\n",
    "google_df = pd.read_csv(google_stock, parse_dates=[0])"
   ]
  },
  {
   "cell_type": "code",
   "execution_count": 4,
   "metadata": {},
   "outputs": [
    {
     "name": "stdout",
     "output_type": "stream",
     "text": [
      "JPM stock data date range: 1980-03-17 00:00:00 2020-11-20 00:00:00\n",
      "GOOGLE stock data date range: 2004-08-19 00:00:00 2020-11-20 00:00:00\n"
     ]
    }
   ],
   "source": [
    "# Review min, max date and date format for selected stocks\n",
    "print(\"JPM stock data date range:\",jpm_df.Date.min(),jpm_df.Date.max())\n",
    "print(\"GOOGLE stock data date range:\",google_df.Date.min(),google_df.Date.max())"
   ]
  },
  {
   "cell_type": "code",
   "execution_count": 5,
   "metadata": {},
   "outputs": [
    {
     "data": {
      "text/plain": [
       "Timestamp('2004-08-19 00:00:00')"
      ]
     },
     "execution_count": 5,
     "metadata": {},
     "output_type": "execute_result"
    }
   ],
   "source": [
    "# Get start date - max of min date for stock\n",
    "start_date = np.max([jpm_df.Date.min(),google_df.Date.min()])\n",
    "start_date"
   ]
  },
  {
   "cell_type": "code",
   "execution_count": 6,
   "metadata": {},
   "outputs": [],
   "source": [
    "# Looking at the selected stocks, we will need to select min data as '08/19/2004' "
   ]
  },
  {
   "cell_type": "code",
   "execution_count": 7,
   "metadata": {},
   "outputs": [],
   "source": [
    "# Create date filter\n",
    "jpm_cond = jpm_df['Date'] >= start_date\n",
    "google_cond = google_df['Date'] >= start_date"
   ]
  },
  {
   "cell_type": "code",
   "execution_count": 8,
   "metadata": {},
   "outputs": [],
   "source": [
    "# Filter date for all data sets so we have same start date and end date\n",
    "jpm_df= jpm_df[jpm_cond]\n",
    "google_df= google_df[google_cond]"
   ]
  },
  {
   "cell_type": "code",
   "execution_count": 9,
   "metadata": {},
   "outputs": [
    {
     "data": {
      "text/html": [
       "<div>\n",
       "<style scoped>\n",
       "    .dataframe tbody tr th:only-of-type {\n",
       "        vertical-align: middle;\n",
       "    }\n",
       "\n",
       "    .dataframe tbody tr th {\n",
       "        vertical-align: top;\n",
       "    }\n",
       "\n",
       "    .dataframe thead th {\n",
       "        text-align: right;\n",
       "    }\n",
       "</style>\n",
       "<table border=\"1\" class=\"dataframe\">\n",
       "  <thead>\n",
       "    <tr style=\"text-align: right;\">\n",
       "      <th></th>\n",
       "      <th>Date</th>\n",
       "      <th>Open</th>\n",
       "      <th>High</th>\n",
       "      <th>Low</th>\n",
       "      <th>Close</th>\n",
       "      <th>Adj Close</th>\n",
       "      <th>Volume</th>\n",
       "    </tr>\n",
       "  </thead>\n",
       "  <tbody>\n",
       "    <tr>\n",
       "      <th>6166</th>\n",
       "      <td>2004-08-19</td>\n",
       "      <td>38.320000</td>\n",
       "      <td>38.320000</td>\n",
       "      <td>37.849998</td>\n",
       "      <td>38.000000</td>\n",
       "      <td>24.372349</td>\n",
       "      <td>7859600</td>\n",
       "    </tr>\n",
       "    <tr>\n",
       "      <th>6167</th>\n",
       "      <td>2004-08-20</td>\n",
       "      <td>37.970001</td>\n",
       "      <td>38.799999</td>\n",
       "      <td>37.919998</td>\n",
       "      <td>38.650002</td>\n",
       "      <td>24.789234</td>\n",
       "      <td>9293600</td>\n",
       "    </tr>\n",
       "    <tr>\n",
       "      <th>6168</th>\n",
       "      <td>2004-08-23</td>\n",
       "      <td>38.750000</td>\n",
       "      <td>38.880001</td>\n",
       "      <td>38.470001</td>\n",
       "      <td>38.549999</td>\n",
       "      <td>24.725105</td>\n",
       "      <td>8000900</td>\n",
       "    </tr>\n",
       "  </tbody>\n",
       "</table>\n",
       "</div>"
      ],
      "text/plain": [
       "           Date       Open       High        Low      Close  Adj Close  \\\n",
       "6166 2004-08-19  38.320000  38.320000  37.849998  38.000000  24.372349   \n",
       "6167 2004-08-20  37.970001  38.799999  37.919998  38.650002  24.789234   \n",
       "6168 2004-08-23  38.750000  38.880001  38.470001  38.549999  24.725105   \n",
       "\n",
       "       Volume  \n",
       "6166  7859600  \n",
       "6167  9293600  \n",
       "6168  8000900  "
      ]
     },
     "execution_count": 9,
     "metadata": {},
     "output_type": "execute_result"
    }
   ],
   "source": [
    "# Sample data for JPM\n",
    "jpm_df.head(3)"
   ]
  },
  {
   "cell_type": "markdown",
   "metadata": {},
   "source": [
    "#### Overiew of the data columns\n",
    "\n",
    "* There are multiple columns in the dataset – Date, Open, High, Low, close and Volume.\n",
    "\n",
    "* The Open and Close represents the starting and ending trade price on a particular day.\n",
    "\n",
    "* High and Low represents the maximum and minimum stock price for the day.\n",
    "\n",
    "* Volume is the number of stocks bought or sold on a particular day."
   ]
  },
  {
   "cell_type": "markdown",
   "metadata": {},
   "source": [
    "All data files have 4095 rows with no null values."
   ]
  },
  {
   "cell_type": "code",
   "execution_count": 10,
   "metadata": {},
   "outputs": [],
   "source": [
    "# Now we know all df's have date column and same record count i.e. 2620. Let's change date format for all df's\n",
    "jpm_df['Date']= pd.to_datetime(jpm_df.Date,format='%Y-%m-%d')\n",
    "google_df['Date']= pd.to_datetime(google_df.Date,format='%Y-%m-%d')"
   ]
  },
  {
   "cell_type": "code",
   "execution_count": 11,
   "metadata": {},
   "outputs": [
    {
     "data": {
      "text/html": [
       "<div>\n",
       "<style scoped>\n",
       "    .dataframe tbody tr th:only-of-type {\n",
       "        vertical-align: middle;\n",
       "    }\n",
       "\n",
       "    .dataframe tbody tr th {\n",
       "        vertical-align: top;\n",
       "    }\n",
       "\n",
       "    .dataframe thead th {\n",
       "        text-align: right;\n",
       "    }\n",
       "</style>\n",
       "<table border=\"1\" class=\"dataframe\">\n",
       "  <thead>\n",
       "    <tr style=\"text-align: right;\">\n",
       "      <th></th>\n",
       "      <th>Date</th>\n",
       "      <th>Open</th>\n",
       "      <th>High</th>\n",
       "      <th>Low</th>\n",
       "      <th>Close</th>\n",
       "      <th>Adj Close</th>\n",
       "      <th>Volume</th>\n",
       "    </tr>\n",
       "  </thead>\n",
       "  <tbody>\n",
       "    <tr>\n",
       "      <th>6166</th>\n",
       "      <td>2004-08-19</td>\n",
       "      <td>38.320000</td>\n",
       "      <td>38.320000</td>\n",
       "      <td>37.849998</td>\n",
       "      <td>38.000000</td>\n",
       "      <td>24.372349</td>\n",
       "      <td>7859600</td>\n",
       "    </tr>\n",
       "    <tr>\n",
       "      <th>6167</th>\n",
       "      <td>2004-08-20</td>\n",
       "      <td>37.970001</td>\n",
       "      <td>38.799999</td>\n",
       "      <td>37.919998</td>\n",
       "      <td>38.650002</td>\n",
       "      <td>24.789234</td>\n",
       "      <td>9293600</td>\n",
       "    </tr>\n",
       "    <tr>\n",
       "      <th>6168</th>\n",
       "      <td>2004-08-23</td>\n",
       "      <td>38.750000</td>\n",
       "      <td>38.880001</td>\n",
       "      <td>38.470001</td>\n",
       "      <td>38.549999</td>\n",
       "      <td>24.725105</td>\n",
       "      <td>8000900</td>\n",
       "    </tr>\n",
       "  </tbody>\n",
       "</table>\n",
       "</div>"
      ],
      "text/plain": [
       "           Date       Open       High        Low      Close  Adj Close  \\\n",
       "6166 2004-08-19  38.320000  38.320000  37.849998  38.000000  24.372349   \n",
       "6167 2004-08-20  37.970001  38.799999  37.919998  38.650002  24.789234   \n",
       "6168 2004-08-23  38.750000  38.880001  38.470001  38.549999  24.725105   \n",
       "\n",
       "       Volume  \n",
       "6166  7859600  \n",
       "6167  9293600  \n",
       "6168  8000900  "
      ]
     },
     "execution_count": 11,
     "metadata": {},
     "output_type": "execute_result"
    }
   ],
   "source": [
    "# Verify Sample result - as all df's have same columns, we dont need to check all df's\n",
    "jpm_df.head(3)"
   ]
  },
  {
   "cell_type": "markdown",
   "metadata": {},
   "source": [
    "* The closing price of a stock is only its cash value at day's end, whereas the adjusted closing price factors in things like dividends, stock splits and new stock offerings. However we will use stock lcosing price to caluclate features as that is the price the stock open's with in next day traing session."
   ]
  },
  {
   "cell_type": "markdown",
   "metadata": {},
   "source": [
    "* The 50-day moving average is a popular technical indicator which investors use to analyze price trends. It is simply a security's average closing price over the last 50 days. Now, let’s calculate 50 day moving average as a new feature that will help us to predict our target stock value."
   ]
  },
  {
   "cell_type": "code",
   "execution_count": 12,
   "metadata": {},
   "outputs": [],
   "source": [
    "# Let's calculate moving average\n",
    "jpm_df['moving_avg']= jpm_df['Close'].rolling(window=50,min_periods=0).mean()\n",
    "google_df['moving_avg']= google_df['Close'].rolling(window=50,min_periods=0).mean()"
   ]
  },
  {
   "cell_type": "markdown",
   "metadata": {},
   "source": [
    "* Note: The 50-day moving average is perceived to be the dividing line between a stock that is technically healthy and one that is not. Furthermore, the percentage of stocks above their 50-day moving average helps determine the overall health of the market."
   ]
  },
  {
   "cell_type": "markdown",
   "metadata": {},
   "source": [
    "Now, we will try to obtain two more features: Volume daily rate of change (increase/decrease) and Closing price daily rate of change (increase/decrease)"
   ]
  },
  {
   "cell_type": "code",
   "execution_count": 13,
   "metadata": {},
   "outputs": [],
   "source": [
    "# Variable intialization\n",
    "i=1\n",
    "jpm_volume_rate_change = [0]\n",
    "jpm_close_rate_change = [0]\n",
    "google_volume_rate_change = [0]\n",
    "google_close_rate_change = [0]\n",
    "\n",
    "# Loop through df length\n",
    "while i<len(jpm_df):\n",
    "    \n",
    "    jpm_volume_rate_change.append(jpm_df.iloc[i]['Volume'] - jpm_df.iloc[i-1]['Volume'])\n",
    "    jpm_close_rate_change.append(jpm_df.iloc[i]['Close'] - jpm_df.iloc[i-1]['Close'])\n",
    "\n",
    "    google_volume_rate_change.append(google_df.iloc[i]['Volume'] - google_df.iloc[i-1]['Volume'])\n",
    "    google_close_rate_change.append(google_df.iloc[i]['Close'] - google_df.iloc[i-1]['Close'])\n",
    "\n",
    "    i+=1\n",
    "\n",
    "# Append values to df    \n",
    "jpm_df['volume_rate'] = jpm_volume_rate_change\n",
    "jpm_df['closing_rate'] = jpm_close_rate_change\n",
    "google_df['volume_rate'] = google_volume_rate_change\n",
    "google_df['closing_rate'] = google_close_rate_change"
   ]
  },
  {
   "cell_type": "code",
   "execution_count": 14,
   "metadata": {},
   "outputs": [
    {
     "data": {
      "text/html": [
       "<div>\n",
       "<style scoped>\n",
       "    .dataframe tbody tr th:only-of-type {\n",
       "        vertical-align: middle;\n",
       "    }\n",
       "\n",
       "    .dataframe tbody tr th {\n",
       "        vertical-align: top;\n",
       "    }\n",
       "\n",
       "    .dataframe thead th {\n",
       "        text-align: right;\n",
       "    }\n",
       "</style>\n",
       "<table border=\"1\" class=\"dataframe\">\n",
       "  <thead>\n",
       "    <tr style=\"text-align: right;\">\n",
       "      <th></th>\n",
       "      <th>Date</th>\n",
       "      <th>Open</th>\n",
       "      <th>High</th>\n",
       "      <th>Low</th>\n",
       "      <th>Close</th>\n",
       "      <th>Adj Close</th>\n",
       "      <th>Volume</th>\n",
       "      <th>moving_avg</th>\n",
       "      <th>volume_rate</th>\n",
       "      <th>closing_rate</th>\n",
       "    </tr>\n",
       "  </thead>\n",
       "  <tbody>\n",
       "    <tr>\n",
       "      <th>0</th>\n",
       "      <td>2004-08-19</td>\n",
       "      <td>49.813286</td>\n",
       "      <td>51.835709</td>\n",
       "      <td>47.800831</td>\n",
       "      <td>49.982655</td>\n",
       "      <td>49.982655</td>\n",
       "      <td>44871300</td>\n",
       "      <td>49.982655</td>\n",
       "      <td>0</td>\n",
       "      <td>0.000000</td>\n",
       "    </tr>\n",
       "    <tr>\n",
       "      <th>1</th>\n",
       "      <td>2004-08-20</td>\n",
       "      <td>50.316402</td>\n",
       "      <td>54.336334</td>\n",
       "      <td>50.062355</td>\n",
       "      <td>53.952770</td>\n",
       "      <td>53.952770</td>\n",
       "      <td>22942800</td>\n",
       "      <td>51.967712</td>\n",
       "      <td>-21928500</td>\n",
       "      <td>3.970115</td>\n",
       "    </tr>\n",
       "    <tr>\n",
       "      <th>2</th>\n",
       "      <td>2004-08-23</td>\n",
       "      <td>55.168217</td>\n",
       "      <td>56.528118</td>\n",
       "      <td>54.321388</td>\n",
       "      <td>54.495735</td>\n",
       "      <td>54.495735</td>\n",
       "      <td>18342800</td>\n",
       "      <td>52.810387</td>\n",
       "      <td>-4600000</td>\n",
       "      <td>0.542965</td>\n",
       "    </tr>\n",
       "  </tbody>\n",
       "</table>\n",
       "</div>"
      ],
      "text/plain": [
       "        Date       Open       High        Low      Close  Adj Close    Volume  \\\n",
       "0 2004-08-19  49.813286  51.835709  47.800831  49.982655  49.982655  44871300   \n",
       "1 2004-08-20  50.316402  54.336334  50.062355  53.952770  53.952770  22942800   \n",
       "2 2004-08-23  55.168217  56.528118  54.321388  54.495735  54.495735  18342800   \n",
       "\n",
       "   moving_avg  volume_rate  closing_rate  \n",
       "0   49.982655            0      0.000000  \n",
       "1   51.967712    -21928500      3.970115  \n",
       "2   52.810387     -4600000      0.542965  "
      ]
     },
     "execution_count": 14,
     "metadata": {},
     "output_type": "execute_result"
    }
   ],
   "source": [
    "# View sample data \n",
    "google_df.head(3)"
   ]
  },
  {
   "cell_type": "code",
   "execution_count": 15,
   "metadata": {},
   "outputs": [
    {
     "data": {
      "text/html": [
       "<div>\n",
       "<style scoped>\n",
       "    .dataframe tbody tr th:only-of-type {\n",
       "        vertical-align: middle;\n",
       "    }\n",
       "\n",
       "    .dataframe tbody tr th {\n",
       "        vertical-align: top;\n",
       "    }\n",
       "\n",
       "    .dataframe thead th {\n",
       "        text-align: right;\n",
       "    }\n",
       "</style>\n",
       "<table border=\"1\" class=\"dataframe\">\n",
       "  <thead>\n",
       "    <tr style=\"text-align: right;\">\n",
       "      <th></th>\n",
       "      <th>Date</th>\n",
       "      <th>Open</th>\n",
       "      <th>High</th>\n",
       "      <th>Low</th>\n",
       "      <th>Close</th>\n",
       "      <th>Adj Close</th>\n",
       "      <th>Volume</th>\n",
       "      <th>moving_avg</th>\n",
       "      <th>volume_rate</th>\n",
       "      <th>closing_rate</th>\n",
       "    </tr>\n",
       "  </thead>\n",
       "  <tbody>\n",
       "    <tr>\n",
       "      <th>6166</th>\n",
       "      <td>2004-08-19</td>\n",
       "      <td>38.320000</td>\n",
       "      <td>38.320000</td>\n",
       "      <td>37.849998</td>\n",
       "      <td>38.000000</td>\n",
       "      <td>24.372349</td>\n",
       "      <td>7859600</td>\n",
       "      <td>38.000000</td>\n",
       "      <td>0</td>\n",
       "      <td>0.000000</td>\n",
       "    </tr>\n",
       "    <tr>\n",
       "      <th>6167</th>\n",
       "      <td>2004-08-20</td>\n",
       "      <td>37.970001</td>\n",
       "      <td>38.799999</td>\n",
       "      <td>37.919998</td>\n",
       "      <td>38.650002</td>\n",
       "      <td>24.789234</td>\n",
       "      <td>9293600</td>\n",
       "      <td>38.325001</td>\n",
       "      <td>1434000</td>\n",
       "      <td>0.650002</td>\n",
       "    </tr>\n",
       "    <tr>\n",
       "      <th>6168</th>\n",
       "      <td>2004-08-23</td>\n",
       "      <td>38.750000</td>\n",
       "      <td>38.880001</td>\n",
       "      <td>38.470001</td>\n",
       "      <td>38.549999</td>\n",
       "      <td>24.725105</td>\n",
       "      <td>8000900</td>\n",
       "      <td>38.400000</td>\n",
       "      <td>-1292700</td>\n",
       "      <td>-0.100003</td>\n",
       "    </tr>\n",
       "  </tbody>\n",
       "</table>\n",
       "</div>"
      ],
      "text/plain": [
       "           Date       Open       High        Low      Close  Adj Close  \\\n",
       "6166 2004-08-19  38.320000  38.320000  37.849998  38.000000  24.372349   \n",
       "6167 2004-08-20  37.970001  38.799999  37.919998  38.650002  24.789234   \n",
       "6168 2004-08-23  38.750000  38.880001  38.470001  38.549999  24.725105   \n",
       "\n",
       "       Volume  moving_avg  volume_rate  closing_rate  \n",
       "6166  7859600   38.000000            0      0.000000  \n",
       "6167  9293600   38.325001      1434000      0.650002  \n",
       "6168  8000900   38.400000     -1292700     -0.100003  "
      ]
     },
     "execution_count": 15,
     "metadata": {},
     "output_type": "execute_result"
    }
   ],
   "source": [
    "# View sample data \n",
    "jpm_df.head(3)"
   ]
  },
  {
   "cell_type": "markdown",
   "metadata": {},
   "source": [
    "#### Feature selection: \n",
    "* It is the process of reducing the number of input variables when developing a predictive model.\n",
    "\n",
    "* It is desirable to reduce the number of input variables to both reduce the computational cost of modeling and, in some cases, to improve the performance of the model. \n"
   ]
  },
  {
   "cell_type": "code",
   "execution_count": 16,
   "metadata": {},
   "outputs": [],
   "source": [
    "# Let's set Date as index column \n",
    "jpm_df = jpm_df.set_index('Date')\n",
    "google_df = google_df.set_index('Date')"
   ]
  },
  {
   "cell_type": "markdown",
   "metadata": {},
   "source": [
    "#### PCA Analysis functions"
   ]
  },
  {
   "cell_type": "code",
   "execution_count": 17,
   "metadata": {},
   "outputs": [],
   "source": [
    "# Get feature info and chart a graph to understand component impact on variance\n",
    "def getFetureInfo(X):\n",
    "    \n",
    "    # Create a StandardScaler object\n",
    "    sc = StandardScaler()\n",
    "\n",
    "    # Standardize the data\n",
    "    X_std = sc.fit_transform(X) \n",
    "\n",
    "    # Create PCA object and fit scaled data\n",
    "    pca = PCA()\n",
    "    X_pca = pca.fit(X_std)\n",
    "\n",
    "    # Plot the chart to understand component impact on variance\n",
    "    plt.plot(np.cumsum(pca.explained_variance_ratio_))\n",
    "\n",
    "    # Label axis\n",
    "    plt.xlabel('Number of Components')\n",
    "    plt.ylabel('Cumulative Explained Variance')\n",
    "    plt.show()\n",
    "    \n",
    "    # return scaled data\n",
    "    return X_std"
   ]
  },
  {
   "cell_type": "code",
   "execution_count": 18,
   "metadata": {},
   "outputs": [],
   "source": [
    "# Let's get important feature count - which features are contributing most to the components\n",
    "def getPCACount(X_std):\n",
    "    # Other way to find out component count is to use n_componenet value as 0.99\n",
    "    pca = PCA(n_components = 0.99)\n",
    "\n",
    "    # Fit and reduce dimensions\n",
    "    X_pca = pca.fit_transform(X_std) \n",
    "\n",
    "    # Print # of components\n",
    "    print(\"Number of PCA Componenets suggested: \" , pca.n_components_)\n",
    "    \n",
    "    # return pca \n",
    "    return pca"
   ]
  },
  {
   "cell_type": "code",
   "execution_count": 19,
   "metadata": {},
   "outputs": [],
   "source": [
    "# Let's get important features info - which features are contributing most to the components\n",
    "def getPCAFeatures(pca):\n",
    "    # Number of component\n",
    "    n_pcs= pca.n_components_ \n",
    "\n",
    "    # Get the index of the most important feature on each component\n",
    "    most_important = [np.abs(pca.components_[i]).argmax() for i in range(n_pcs)]\n",
    "\n",
    "    #  Get the column names\n",
    "    initial_feature_names = X.columns\n",
    "\n",
    "    # Get the most important feature names\n",
    "    most_important_names = [initial_feature_names[most_important[i]] for i in range(n_pcs)]\n",
    "\n",
    "    # Import features\n",
    "    print(\"Important features: \" , most_important_names)"
   ]
  },
  {
   "cell_type": "markdown",
   "metadata": {},
   "source": [
    "#### JPM Stock PCA Analysis"
   ]
  },
  {
   "cell_type": "code",
   "execution_count": 20,
   "metadata": {},
   "outputs": [
    {
     "data": {
      "image/png": "[encoded data removed]",
      "text/plain": [
       "<Figure size 432x288 with 1 Axes>"
      ]
     },
     "metadata": {
      "needs_background": "light"
     },
     "output_type": "display_data"
    },
    {
     "name": "stdout",
     "output_type": "stream",
     "text": [
      "Number of PCA Componenets suggested:  4\n",
      "Important features:  ['Low', 'volume_rate', 'closing_rate', 'Volume']\n"
     ]
    }
   ],
   "source": [
    "# For JPM stock\n",
    "X = jpm_df.drop(columns=['Close'], axis=1)\n",
    "X_std = getFetureInfo(X)\n",
    "pca = getPCACount(X_std)\n",
    "getPCAFeatures(pca)"
   ]
  },
  {
   "cell_type": "markdown",
   "metadata": {},
   "source": [
    "#### Google Stock PCA Analysis"
   ]
  },
  {
   "cell_type": "code",
   "execution_count": 21,
   "metadata": {},
   "outputs": [
    {
     "data": {
      "image/png": "[encoded data removed]",
      "text/plain": [
       "<Figure size 432x288 with 1 Axes>"
      ]
     },
     "metadata": {
      "needs_background": "light"
     },
     "output_type": "display_data"
    },
    {
     "name": "stdout",
     "output_type": "stream",
     "text": [
      "Number of PCA Componenets suggested:  4\n",
      "Important features:  ['Low', 'volume_rate', 'closing_rate', 'Volume']\n"
     ]
    }
   ],
   "source": [
    "# For Google stock\n",
    "X = google_df.drop(columns=['Close'], axis=1)\n",
    "X_std = getFetureInfo(X)\n",
    "pca = getPCACount(X_std)\n",
    "getPCAFeatures(pca)"
   ]
  },
  {
   "cell_type": "markdown",
   "metadata": {},
   "source": [
    "#### Summary:\n",
    "* We will use Date, Low, volume_rate, closing_rate and Volume as features to predict Close stock price."
   ]
  },
  {
   "cell_type": "code",
   "execution_count": 22,
   "metadata": {},
   "outputs": [],
   "source": [
    "# For JPM stock\n",
    "X_jpm = jpm_df[['Low', 'volume_rate', 'closing_rate', 'Volume']]\n",
    "y_jpm = jpm_df['Close']\n",
    "\n",
    "# For google stock\n",
    "X_google = google_df[['Low', 'volume_rate', 'closing_rate', 'Volume']]\n",
    "y_google = google_df['Close']"
   ]
  },
  {
   "cell_type": "code",
   "execution_count": 23,
   "metadata": {},
   "outputs": [
    {
     "name": "stdout",
     "output_type": "stream",
     "text": [
      "JPM data shape (4095, 4)\n",
      "GOOGLE data shape (4095, 4)\n"
     ]
    }
   ],
   "source": [
    "# Get scaler reference\n",
    "scaler = StandardScaler()\n",
    "\n",
    "# Fit data\n",
    "scaler.fit(X_jpm)\n",
    "scaler.fit(X_google)\n",
    "\n",
    "# Check the shape of features\n",
    "print(\"JPM data shape\", X_jpm.shape)\n",
    "print(\"GOOGLE data shape\", X_google.shape)"
   ]
  },
  {
   "cell_type": "code",
   "execution_count": 24,
   "metadata": {},
   "outputs": [],
   "source": [
    "# Transform features\n",
    "X_jpm = scaler.transform(X_jpm)\n",
    "X_google =  scaler.transform(X_google)"
   ]
  },
  {
   "cell_type": "code",
   "execution_count": 25,
   "metadata": {},
   "outputs": [
    {
     "name": "stdout",
     "output_type": "stream",
     "text": [
      "JPM training feature shape (3071, 4)\n",
      "JPM training dependent variable shape (3071,)\n",
      "JPM test feature shape (1024, 4)\n",
      "JPM test dependent variable shape (1024,)\n",
      " \n",
      "Google training feature shape (3071, 4)\n",
      "Google training dependent variable shape (3071,)\n",
      "Google test feature shape (1024, 4)\n",
      "Google test dependent variable shape (1024,)\n"
     ]
    }
   ],
   "source": [
    "# Split data\n",
    "# JPM Stock\n",
    "X_train_jpm, X_test_jpm, y_train_jpm, y_test_jpm = train_test_split(X_jpm, y_jpm, test_size=.25, random_state=420)\n",
    "\n",
    "# Print shape of train data\n",
    "print(\"JPM training feature shape\", X_train_jpm.shape)\n",
    "print(\"JPM training dependent variable shape\", y_train_jpm.shape)\n",
    "print(\"JPM test feature shape\", X_test_jpm.shape)\n",
    "print(\"JPM test dependent variable shape\", y_test_jpm.shape)\n",
    "\n",
    "print(\" \")\n",
    "# Google Stock\n",
    "X_train_google, X_test_google, y_train_google, y_test_google = train_test_split(X_jpm, y_jpm, test_size=.25, random_state=420)\n",
    "\n",
    "# Print shape of train data\n",
    "print(\"Google training feature shape\", X_train_google.shape)\n",
    "print(\"Google training dependent variable shape\", y_train_google.shape)\n",
    "print(\"Google test feature shape\", X_test_google.shape)\n",
    "print(\"Google test dependent variable shape\", y_test_google.shape)"
   ]
  },
  {
   "cell_type": "code",
   "execution_count": null,
   "metadata": {},
   "outputs": [],
   "source": []
  }
 ],
 "metadata": {
  "kernelspec": {
   "display_name": "Python 3",
   "language": "python",
   "name": "python3"
  },
  "language_info": {
   "codemirror_mode": {
    "name": "ipython",
    "version": 3
   },
   "file_extension": ".py",
   "mimetype": "text/x-python",
   "name": "python",
   "nbconvert_exporter": "python",
   "pygments_lexer": "ipython3",
   "version": "3.7.6"
  }
 },
 "nbformat": 4,
 "nbformat_minor": 4
}
