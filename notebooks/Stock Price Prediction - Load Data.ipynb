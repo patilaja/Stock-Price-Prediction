{
 "cells": [
  {
   "cell_type": "markdown",
   "metadata": {},
   "source": [
    "# Stock Prices Prediction Using Machine Learning\n",
    "\n",
    "* Predicting how the stock market will perform is one of the most difficult things to do. \n",
    "There are so many factors involved in the prediction – physical factors vs. physhological, rational and irrational behaviour, etc. All these aspects combine to make share prices volatile and very difficult to predict with a high degree of accuracy.\n",
    "\n"
   ]
  },
  {
   "cell_type": "markdown",
   "metadata": {},
   "source": [
    "* We will implement machine learning algorithms to predict the future stock price of GOOGLE (GOOG) - NASDAQ listed and JP Morgan Chase (JPM) - NYSE listed stocks, starting with linear regression, and then move on to the advanced techniques like Auto ARIMA and LSTM."
   ]
  },
  {
   "cell_type": "code",
   "execution_count": 1,
   "metadata": {},
   "outputs": [],
   "source": [
    "# Ignore future warnings\n",
    "import warnings\n",
    "warnings.simplefilter(action='ignore', category=FutureWarning)\n",
    "\n",
    "# Import modules\n",
    "import pandas as pd\n",
    "import numpy as np\n",
    "import datetime\n",
    "import os\n",
    "import matplotlib.pyplot as plt"
   ]
  },
  {
   "cell_type": "code",
   "execution_count": 2,
   "metadata": {},
   "outputs": [],
   "source": [
    "# Data file paths\n",
    "path = os.path.join('','data/')\n",
    "\n",
    "# Market Index data files\n",
    "nyse_file = path + 'NYSE.csv'\n",
    "nasdaq_file = path + 'Nasdaq.csv'\n",
    "\n",
    "# Stock data files\n",
    "jpm_stock = path + 'JPM_stock.csv'\n",
    "jpm_div = path + 'JPM_div.csv'\n",
    "jpm_split = path + 'JPM_split.csv'\n",
    "google_stock = path + 'GOOG_stock.csv'\n",
    "google_div = path + 'GOOG_split.csv'"
   ]
  },
  {
   "cell_type": "code",
   "execution_count": 3,
   "metadata": {},
   "outputs": [],
   "source": [
    "# Load market index files\n",
    "nyse_df = pd.read_csv(nyse_file, parse_dates=[0])\n",
    "nasdaq_df = pd.read_csv(nasdaq_file, parse_dates=[0])"
   ]
  },
  {
   "cell_type": "code",
   "execution_count": 4,
   "metadata": {},
   "outputs": [],
   "source": [
    "# Laod stock fils\n",
    "jpm_df = pd.read_csv(jpm_stock, parse_dates=[0])\n",
    "google_df = pd.read_csv(google_stock, parse_dates=[0])"
   ]
  },
  {
   "cell_type": "code",
   "execution_count": 5,
   "metadata": {},
   "outputs": [
    {
     "data": {
      "text/plain": [
       "Date         datetime64[ns]\n",
       "Open                float64\n",
       "High                float64\n",
       "Low                 float64\n",
       "Close               float64\n",
       "Adj Close           float64\n",
       "Volume              float64\n",
       "dtype: object"
      ]
     },
     "execution_count": 5,
     "metadata": {},
     "output_type": "execute_result"
    }
   ],
   "source": [
    "# Check df data types\n",
    "nyse_df.dtypes"
   ]
  },
  {
   "cell_type": "code",
   "execution_count": 6,
   "metadata": {},
   "outputs": [
    {
     "data": {
      "text/html": [
       "<div>\n",
       "<style scoped>\n",
       "    .dataframe tbody tr th:only-of-type {\n",
       "        vertical-align: middle;\n",
       "    }\n",
       "\n",
       "    .dataframe tbody tr th {\n",
       "        vertical-align: top;\n",
       "    }\n",
       "\n",
       "    .dataframe thead th {\n",
       "        text-align: right;\n",
       "    }\n",
       "</style>\n",
       "<table border=\"1\" class=\"dataframe\">\n",
       "  <thead>\n",
       "    <tr style=\"text-align: right;\">\n",
       "      <th></th>\n",
       "      <th>Date</th>\n",
       "      <th>Open</th>\n",
       "      <th>High</th>\n",
       "      <th>Low</th>\n",
       "      <th>Close</th>\n",
       "      <th>Adj Close</th>\n",
       "      <th>Volume</th>\n",
       "    </tr>\n",
       "  </thead>\n",
       "  <tbody>\n",
       "    <tr>\n",
       "      <th>13814</th>\n",
       "      <td>2020-11-16</td>\n",
       "      <td>13946.190430</td>\n",
       "      <td>13985.509766</td>\n",
       "      <td>13879.179688</td>\n",
       "      <td>13982.190430</td>\n",
       "      <td>13982.190430</td>\n",
       "      <td>5.281980e+09</td>\n",
       "    </tr>\n",
       "    <tr>\n",
       "      <th>13815</th>\n",
       "      <td>2020-11-17</td>\n",
       "      <td>13880.809570</td>\n",
       "      <td>13989.339844</td>\n",
       "      <td>13818.759766</td>\n",
       "      <td>13949.099609</td>\n",
       "      <td>13949.099609</td>\n",
       "      <td>4.799570e+09</td>\n",
       "    </tr>\n",
       "    <tr>\n",
       "      <th>13816</th>\n",
       "      <td>2020-11-18</td>\n",
       "      <td>13986.410156</td>\n",
       "      <td>14004.610352</td>\n",
       "      <td>13808.370117</td>\n",
       "      <td>13808.650391</td>\n",
       "      <td>13808.650391</td>\n",
       "      <td>5.274450e+09</td>\n",
       "    </tr>\n",
       "    <tr>\n",
       "      <th>13817</th>\n",
       "      <td>2020-11-19</td>\n",
       "      <td>13765.519531</td>\n",
       "      <td>13871.259766</td>\n",
       "      <td>13714.269531</td>\n",
       "      <td>13863.230469</td>\n",
       "      <td>13863.230469</td>\n",
       "      <td>4.347200e+09</td>\n",
       "    </tr>\n",
       "    <tr>\n",
       "      <th>13818</th>\n",
       "      <td>2020-11-20</td>\n",
       "      <td>13853.120117</td>\n",
       "      <td>13883.450195</td>\n",
       "      <td>13810.240234</td>\n",
       "      <td>13827.000000</td>\n",
       "      <td>13827.000000</td>\n",
       "      <td>4.218970e+09</td>\n",
       "    </tr>\n",
       "  </tbody>\n",
       "</table>\n",
       "</div>"
      ],
      "text/plain": [
       "            Date          Open          High           Low         Close  \\\n",
       "13814 2020-11-16  13946.190430  13985.509766  13879.179688  13982.190430   \n",
       "13815 2020-11-17  13880.809570  13989.339844  13818.759766  13949.099609   \n",
       "13816 2020-11-18  13986.410156  14004.610352  13808.370117  13808.650391   \n",
       "13817 2020-11-19  13765.519531  13871.259766  13714.269531  13863.230469   \n",
       "13818 2020-11-20  13853.120117  13883.450195  13810.240234  13827.000000   \n",
       "\n",
       "          Adj Close        Volume  \n",
       "13814  13982.190430  5.281980e+09  \n",
       "13815  13949.099609  4.799570e+09  \n",
       "13816  13808.650391  5.274450e+09  \n",
       "13817  13863.230469  4.347200e+09  \n",
       "13818  13827.000000  4.218970e+09  "
      ]
     },
     "execution_count": 6,
     "metadata": {},
     "output_type": "execute_result"
    }
   ],
   "source": [
    "# Sample data\n",
    "nyse_df.tail()"
   ]
  },
  {
   "cell_type": "code",
   "execution_count": 7,
   "metadata": {},
   "outputs": [
    {
     "name": "stdout",
     "output_type": "stream",
     "text": [
      "NYSE data date range: 1965-12-31 00:00:00 2020-11-20 00:00:00\n",
      "NASDAQ data date range: 1971-02-05 00:00:00 2020-11-20 00:00:00\n"
     ]
    }
   ],
   "source": [
    "# Review min, max date and date format for each Market Index\n",
    "print(\"NYSE data date range:\",nyse_df.Date.min(),nyse_df.Date.max())\n",
    "print(\"NASDAQ data date range:\",nasdaq_df.Date.min(),nasdaq_df.Date.max())"
   ]
  },
  {
   "cell_type": "code",
   "execution_count": 8,
   "metadata": {},
   "outputs": [
    {
     "name": "stdout",
     "output_type": "stream",
     "text": [
      "JPM stock data date range: 1980-03-17 00:00:00 2020-11-20 00:00:00\n",
      "GOOGLE stock data date range: 2004-08-19 00:00:00 2020-11-20 00:00:00\n"
     ]
    }
   ],
   "source": [
    "# Review min, max date and date format for selected stocks\n",
    "print(\"JPM stock data date range:\",jpm_df.Date.min(),jpm_df.Date.max())\n",
    "print(\"GOOGLE stock data date range:\",google_df.Date.min(),google_df.Date.max())"
   ]
  },
  {
   "cell_type": "code",
   "execution_count": 9,
   "metadata": {},
   "outputs": [
    {
     "data": {
      "text/plain": [
       "Timestamp('2004-08-19 00:00:00')"
      ]
     },
     "execution_count": 9,
     "metadata": {},
     "output_type": "execute_result"
    }
   ],
   "source": [
    "# Get start date - max of min date for market index and stock\n",
    "start_date = np.max([nyse_df.Date.min(),nasdaq_df.Date.min(),jpm_df.Date.min(),google_df.Date.min()])\n",
    "start_date"
   ]
  },
  {
   "cell_type": "code",
   "execution_count": 10,
   "metadata": {},
   "outputs": [],
   "source": [
    "# Looking at the Market Index and selected stocks, we will need to select min data as '08/19/2004' "
   ]
  },
  {
   "cell_type": "code",
   "execution_count": 11,
   "metadata": {},
   "outputs": [],
   "source": [
    "# Create date filter\n",
    "nyse_cond = nyse_df['Date'] >= start_date\n",
    "nasdaq_cond = nasdaq_df['Date'] >= start_date\n",
    "jpm_cond = jpm_df['Date'] >= start_date\n",
    "google_cond = google_df['Date'] >= start_date"
   ]
  },
  {
   "cell_type": "code",
   "execution_count": 12,
   "metadata": {},
   "outputs": [],
   "source": [
    "# Filter date for all data sets so we have same start date and end date\n",
    "nyse_df= nyse_df[nyse_cond]\n",
    "nasdaq_df= nasdaq_df[nasdaq_cond]\n",
    "jpm_df= jpm_df[jpm_cond]\n",
    "google_df= google_df[google_cond]"
   ]
  },
  {
   "cell_type": "code",
   "execution_count": 13,
   "metadata": {},
   "outputs": [
    {
     "data": {
      "text/html": [
       "<div>\n",
       "<style scoped>\n",
       "    .dataframe tbody tr th:only-of-type {\n",
       "        vertical-align: middle;\n",
       "    }\n",
       "\n",
       "    .dataframe tbody tr th {\n",
       "        vertical-align: top;\n",
       "    }\n",
       "\n",
       "    .dataframe thead th {\n",
       "        text-align: right;\n",
       "    }\n",
       "</style>\n",
       "<table border=\"1\" class=\"dataframe\">\n",
       "  <thead>\n",
       "    <tr style=\"text-align: right;\">\n",
       "      <th></th>\n",
       "      <th>Date</th>\n",
       "      <th>Open</th>\n",
       "      <th>High</th>\n",
       "      <th>Low</th>\n",
       "      <th>Close</th>\n",
       "      <th>Adj Close</th>\n",
       "      <th>Volume</th>\n",
       "    </tr>\n",
       "  </thead>\n",
       "  <tbody>\n",
       "    <tr>\n",
       "      <th>6166</th>\n",
       "      <td>2004-08-19</td>\n",
       "      <td>38.320000</td>\n",
       "      <td>38.320000</td>\n",
       "      <td>37.849998</td>\n",
       "      <td>38.000000</td>\n",
       "      <td>24.372349</td>\n",
       "      <td>7859600</td>\n",
       "    </tr>\n",
       "    <tr>\n",
       "      <th>6167</th>\n",
       "      <td>2004-08-20</td>\n",
       "      <td>37.970001</td>\n",
       "      <td>38.799999</td>\n",
       "      <td>37.919998</td>\n",
       "      <td>38.650002</td>\n",
       "      <td>24.789234</td>\n",
       "      <td>9293600</td>\n",
       "    </tr>\n",
       "    <tr>\n",
       "      <th>6168</th>\n",
       "      <td>2004-08-23</td>\n",
       "      <td>38.750000</td>\n",
       "      <td>38.880001</td>\n",
       "      <td>38.470001</td>\n",
       "      <td>38.549999</td>\n",
       "      <td>24.725105</td>\n",
       "      <td>8000900</td>\n",
       "    </tr>\n",
       "  </tbody>\n",
       "</table>\n",
       "</div>"
      ],
      "text/plain": [
       "           Date       Open       High        Low      Close  Adj Close  \\\n",
       "6166 2004-08-19  38.320000  38.320000  37.849998  38.000000  24.372349   \n",
       "6167 2004-08-20  37.970001  38.799999  37.919998  38.650002  24.789234   \n",
       "6168 2004-08-23  38.750000  38.880001  38.470001  38.549999  24.725105   \n",
       "\n",
       "       Volume  \n",
       "6166  7859600  \n",
       "6167  9293600  \n",
       "6168  8000900  "
      ]
     },
     "execution_count": 13,
     "metadata": {},
     "output_type": "execute_result"
    }
   ],
   "source": [
    "# Sample data for JPM\n",
    "jpm_df.head(3)"
   ]
  },
  {
   "cell_type": "markdown",
   "metadata": {},
   "source": [
    "#### Overiew of the data columns\n",
    "\n",
    "* There are multiple columns in the dataset – Date, Open, High, Low, close and Volume.\n",
    "\n",
    "* The Open and Close represents the starting and ending trade price on a particular day.\n",
    "\n",
    "* High and Low represents the maximum and minimum stock price for the day.\n",
    "\n",
    "* Volume is the number of stocks bought or sold on a particular day."
   ]
  },
  {
   "cell_type": "code",
   "execution_count": 14,
   "metadata": {},
   "outputs": [
    {
     "name": "stdout",
     "output_type": "stream",
     "text": [
      "<class 'pandas.core.frame.DataFrame'>\n",
      "Int64Index: 4095 entries, 9724 to 13818\n",
      "Data columns (total 7 columns):\n",
      " #   Column     Non-Null Count  Dtype         \n",
      "---  ------     --------------  -----         \n",
      " 0   Date       4095 non-null   datetime64[ns]\n",
      " 1   Open       4095 non-null   float64       \n",
      " 2   High       4095 non-null   float64       \n",
      " 3   Low        4095 non-null   float64       \n",
      " 4   Close      4095 non-null   float64       \n",
      " 5   Adj Close  4095 non-null   float64       \n",
      " 6   Volume     4095 non-null   float64       \n",
      "dtypes: datetime64[ns](1), float64(6)\n",
      "memory usage: 255.9 KB\n"
     ]
    }
   ],
   "source": [
    "# Lets verify is data has any null values and record count in all df's\n",
    "nyse_df.info()"
   ]
  },
  {
   "cell_type": "code",
   "execution_count": 15,
   "metadata": {},
   "outputs": [
    {
     "name": "stdout",
     "output_type": "stream",
     "text": [
      "<class 'pandas.core.frame.DataFrame'>\n",
      "Int64Index: 4095 entries, 8466 to 12560\n",
      "Data columns (total 7 columns):\n",
      " #   Column     Non-Null Count  Dtype         \n",
      "---  ------     --------------  -----         \n",
      " 0   Date       4095 non-null   datetime64[ns]\n",
      " 1   Open       4095 non-null   float64       \n",
      " 2   High       4095 non-null   float64       \n",
      " 3   Low        4095 non-null   float64       \n",
      " 4   Close      4095 non-null   float64       \n",
      " 5   Adj Close  4095 non-null   float64       \n",
      " 6   Volume     4095 non-null   int64         \n",
      "dtypes: datetime64[ns](1), float64(5), int64(1)\n",
      "memory usage: 255.9 KB\n"
     ]
    }
   ],
   "source": [
    "nasdaq_df.info()"
   ]
  },
  {
   "cell_type": "code",
   "execution_count": 16,
   "metadata": {},
   "outputs": [
    {
     "name": "stdout",
     "output_type": "stream",
     "text": [
      "<class 'pandas.core.frame.DataFrame'>\n",
      "Int64Index: 4095 entries, 6166 to 10260\n",
      "Data columns (total 7 columns):\n",
      " #   Column     Non-Null Count  Dtype         \n",
      "---  ------     --------------  -----         \n",
      " 0   Date       4095 non-null   datetime64[ns]\n",
      " 1   Open       4095 non-null   float64       \n",
      " 2   High       4095 non-null   float64       \n",
      " 3   Low        4095 non-null   float64       \n",
      " 4   Close      4095 non-null   float64       \n",
      " 5   Adj Close  4095 non-null   float64       \n",
      " 6   Volume     4095 non-null   int64         \n",
      "dtypes: datetime64[ns](1), float64(5), int64(1)\n",
      "memory usage: 255.9 KB\n"
     ]
    }
   ],
   "source": [
    "jpm_df.info()"
   ]
  },
  {
   "cell_type": "code",
   "execution_count": 17,
   "metadata": {},
   "outputs": [
    {
     "name": "stdout",
     "output_type": "stream",
     "text": [
      "<class 'pandas.core.frame.DataFrame'>\n",
      "Int64Index: 4095 entries, 0 to 4094\n",
      "Data columns (total 7 columns):\n",
      " #   Column     Non-Null Count  Dtype         \n",
      "---  ------     --------------  -----         \n",
      " 0   Date       4095 non-null   datetime64[ns]\n",
      " 1   Open       4095 non-null   float64       \n",
      " 2   High       4095 non-null   float64       \n",
      " 3   Low        4095 non-null   float64       \n",
      " 4   Close      4095 non-null   float64       \n",
      " 5   Adj Close  4095 non-null   float64       \n",
      " 6   Volume     4095 non-null   int64         \n",
      "dtypes: datetime64[ns](1), float64(5), int64(1)\n",
      "memory usage: 255.9 KB\n"
     ]
    }
   ],
   "source": [
    "google_df.info()"
   ]
  },
  {
   "cell_type": "markdown",
   "metadata": {},
   "source": [
    "All data files have 4095 rows with no null values."
   ]
  },
  {
   "cell_type": "code",
   "execution_count": 18,
   "metadata": {},
   "outputs": [],
   "source": [
    "# Now we know all df's have date column and same record count i.e. 2620. Let's change date format for all df's\n",
    "nyse_df['Date']= pd.to_datetime(nyse_df.Date,format='%Y-%m-%d')\n",
    "nasdaq_df['Date']= pd.to_datetime(nasdaq_df.Date,format='%Y-%m-%d')\n",
    "jpm_df['Date']= pd.to_datetime(jpm_df.Date,format='%Y-%m-%d')\n",
    "google_df['Date']= pd.to_datetime(google_df.Date,format='%Y-%m-%d')\n",
    "\n",
    "# Let's set Date as index column \n",
    "nyse_df.index = nyse_df['Date']\n",
    "nasdaq_df.index = nasdaq_df['Date']\n",
    "jpm_df.index = jpm_df['Date']\n",
    "google_df.index = google_df['Date']"
   ]
  },
  {
   "cell_type": "code",
   "execution_count": 19,
   "metadata": {},
   "outputs": [
    {
     "data": {
      "text/html": [
       "<div>\n",
       "<style scoped>\n",
       "    .dataframe tbody tr th:only-of-type {\n",
       "        vertical-align: middle;\n",
       "    }\n",
       "\n",
       "    .dataframe tbody tr th {\n",
       "        vertical-align: top;\n",
       "    }\n",
       "\n",
       "    .dataframe thead th {\n",
       "        text-align: right;\n",
       "    }\n",
       "</style>\n",
       "<table border=\"1\" class=\"dataframe\">\n",
       "  <thead>\n",
       "    <tr style=\"text-align: right;\">\n",
       "      <th></th>\n",
       "      <th>Date</th>\n",
       "      <th>Open</th>\n",
       "      <th>High</th>\n",
       "      <th>Low</th>\n",
       "      <th>Close</th>\n",
       "      <th>Adj Close</th>\n",
       "      <th>Volume</th>\n",
       "    </tr>\n",
       "    <tr>\n",
       "      <th>Date</th>\n",
       "      <th></th>\n",
       "      <th></th>\n",
       "      <th></th>\n",
       "      <th></th>\n",
       "      <th></th>\n",
       "      <th></th>\n",
       "      <th></th>\n",
       "    </tr>\n",
       "  </thead>\n",
       "  <tbody>\n",
       "    <tr>\n",
       "      <th>2004-08-19</th>\n",
       "      <td>2004-08-19</td>\n",
       "      <td>38.320000</td>\n",
       "      <td>38.320000</td>\n",
       "      <td>37.849998</td>\n",
       "      <td>38.000000</td>\n",
       "      <td>24.372349</td>\n",
       "      <td>7859600</td>\n",
       "    </tr>\n",
       "    <tr>\n",
       "      <th>2004-08-20</th>\n",
       "      <td>2004-08-20</td>\n",
       "      <td>37.970001</td>\n",
       "      <td>38.799999</td>\n",
       "      <td>37.919998</td>\n",
       "      <td>38.650002</td>\n",
       "      <td>24.789234</td>\n",
       "      <td>9293600</td>\n",
       "    </tr>\n",
       "    <tr>\n",
       "      <th>2004-08-23</th>\n",
       "      <td>2004-08-23</td>\n",
       "      <td>38.750000</td>\n",
       "      <td>38.880001</td>\n",
       "      <td>38.470001</td>\n",
       "      <td>38.549999</td>\n",
       "      <td>24.725105</td>\n",
       "      <td>8000900</td>\n",
       "    </tr>\n",
       "  </tbody>\n",
       "</table>\n",
       "</div>"
      ],
      "text/plain": [
       "                 Date       Open       High        Low      Close  Adj Close  \\\n",
       "Date                                                                           \n",
       "2004-08-19 2004-08-19  38.320000  38.320000  37.849998  38.000000  24.372349   \n",
       "2004-08-20 2004-08-20  37.970001  38.799999  37.919998  38.650002  24.789234   \n",
       "2004-08-23 2004-08-23  38.750000  38.880001  38.470001  38.549999  24.725105   \n",
       "\n",
       "             Volume  \n",
       "Date                 \n",
       "2004-08-19  7859600  \n",
       "2004-08-20  9293600  \n",
       "2004-08-23  8000900  "
      ]
     },
     "execution_count": 19,
     "metadata": {},
     "output_type": "execute_result"
    }
   ],
   "source": [
    "# Verify Sample result - as all df's have same columns, we dont need to check all df's\n",
    "jpm_df.head(3)"
   ]
  },
  {
   "cell_type": "code",
   "execution_count": 20,
   "metadata": {},
   "outputs": [
    {
     "data": {
      "text/plain": [
       "[]"
      ]
     },
     "execution_count": 20,
     "metadata": {},
     "output_type": "execute_result"
    },
    {
     "data": {
      "image/png": "[encoded data removed]",
      "text/plain": [
       "<Figure size 1152x288 with 2 Axes>"
      ]
     },
     "metadata": {
      "needs_background": "light"
     },
     "output_type": "display_data"
    }
   ],
   "source": [
    "# Plot closing price to visualize the trend \n",
    "fig = plt.figure(figsize=(16,4))\n",
    "\n",
    "plt.subplot(1, 2, 1)\n",
    "plt.plot(nyse_df['Date'], nyse_df['Close'], c='green')\n",
    "\n",
    "# Define legend and axis labels    \n",
    "plt.legend(['NYSE'])\n",
    "plt.xlabel('Year')\n",
    "plt.ylabel('Closing Price')\n",
    "plt.title('NYSE Market Index')\n",
    "\n",
    "plt.subplot(1, 2, 2)\n",
    "plt.plot(nasdaq_df['Date'], nasdaq_df['Close'], c='yellowgreen')\n",
    "\n",
    "# Define legend and axis labels    \n",
    "plt.legend(['NASDAQ'])\n",
    "plt.xlabel('Year')\n",
    "plt.ylabel('Closing Price')\n",
    "plt.title('NASDAQ Market Index')\n",
    "\n",
    "# Show chart\n",
    "plt.plot()"
   ]
  },
  {
   "cell_type": "code",
   "execution_count": 21,
   "metadata": {},
   "outputs": [
    {
     "data": {
      "text/plain": [
       "[]"
      ]
     },
     "execution_count": 21,
     "metadata": {},
     "output_type": "execute_result"
    },
    {
     "data": {
      "image/png": "[encoded data removed]",
      "text/plain": [
       "<Figure size 1152x288 with 2 Axes>"
      ]
     },
     "metadata": {
      "needs_background": "light"
     },
     "output_type": "display_data"
    }
   ],
   "source": [
    "# Plot closing price to visualize the trend \n",
    "fig = plt.figure(figsize=(16,4))\n",
    "\n",
    "plt.subplot(1, 2, 1)\n",
    "plt.plot(jpm_df['Date'], jpm_df['Close'], c='green')\n",
    "\n",
    "# Define legend and axis labels    \n",
    "plt.legend(['JPM'])\n",
    "plt.xlabel('Year')\n",
    "plt.ylabel('Closing Price')\n",
    "plt.title('NYSE Stock - JPM')\n",
    "\n",
    "plt.subplot(1, 2, 2)\n",
    "plt.plot(google_df['Date'], google_df['Close'], c='yellowgreen')\n",
    "\n",
    "# Define legend and axis labels    \n",
    "plt.legend(['GOOGLE'])\n",
    "plt.xlabel('Year')\n",
    "plt.ylabel('Closing Price')\n",
    "plt.title('NASDAQ Stock - GOOG')\n",
    "\n",
    "# Show chart\n",
    "plt.plot()"
   ]
  },
  {
   "cell_type": "code",
   "execution_count": null,
   "metadata": {},
   "outputs": [],
   "source": []
  }
 ],
 "metadata": {
  "kernelspec": {
   "display_name": "Python 3",
   "language": "python",
   "name": "python3"
  },
  "language_info": {
   "codemirror_mode": {
    "name": "ipython",
    "version": 3
   },
   "file_extension": ".py",
   "mimetype": "text/x-python",
   "name": "python",
   "nbconvert_exporter": "python",
   "pygments_lexer": "ipython3",
   "version": "3.7.6"
  }
 },
 "nbformat": 4,
 "nbformat_minor": 4
}
