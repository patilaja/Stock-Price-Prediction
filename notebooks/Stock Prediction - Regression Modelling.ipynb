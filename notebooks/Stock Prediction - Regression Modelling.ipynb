{
 "cells": [
  {
   "cell_type": "markdown",
   "metadata": {},
   "source": [
    "### Stock Prediction - Linear and Polynomial Regression Model"
   ]
  },
  {
   "cell_type": "code",
   "execution_count": 1,
   "metadata": {},
   "outputs": [],
   "source": [
    "# Ignore future warnings\n",
    "import warnings\n",
    "warnings.simplefilter(action='ignore', category=FutureWarning)\n",
    "\n",
    "#import packages\n",
    "import pandas as pd\n",
    "import numpy as np\n",
    "import os\n",
    "import datetime\n",
    "import pandas_datareader.data as web\n",
    "from sklearn.linear_model import LinearRegression\n",
    "from sklearn import metrics\n",
    "\n",
    "#to plot within notebook\n",
    "import matplotlib.pyplot as plt"
   ]
  },
  {
   "cell_type": "code",
   "execution_count": 2,
   "metadata": {},
   "outputs": [],
   "source": [
    "# Data Start and end date\n",
    "start = datetime.datetime(2000, 1, 1)\n",
    "end = datetime.datetime(2020, 12, 10)"
   ]
  },
  {
   "cell_type": "markdown",
   "metadata": {},
   "source": [
    "Let's get the historical data using web. For simplicity of model, we will be using only Date and Close columns. "
   ]
  },
  {
   "cell_type": "code",
   "execution_count": 3,
   "metadata": {},
   "outputs": [
    {
     "data": {
      "text/html": [
       "<div>\n",
       "<style scoped>\n",
       "    .dataframe tbody tr th:only-of-type {\n",
       "        vertical-align: middle;\n",
       "    }\n",
       "\n",
       "    .dataframe tbody tr th {\n",
       "        vertical-align: top;\n",
       "    }\n",
       "\n",
       "    .dataframe thead th {\n",
       "        text-align: right;\n",
       "    }\n",
       "</style>\n",
       "<table border=\"1\" class=\"dataframe\">\n",
       "  <thead>\n",
       "    <tr style=\"text-align: right;\">\n",
       "      <th></th>\n",
       "      <th>High</th>\n",
       "      <th>Low</th>\n",
       "      <th>Open</th>\n",
       "      <th>Close</th>\n",
       "      <th>Volume</th>\n",
       "      <th>Adj Close</th>\n",
       "    </tr>\n",
       "    <tr>\n",
       "      <th>Date</th>\n",
       "      <th></th>\n",
       "      <th></th>\n",
       "      <th></th>\n",
       "      <th></th>\n",
       "      <th></th>\n",
       "      <th></th>\n",
       "    </tr>\n",
       "  </thead>\n",
       "  <tbody>\n",
       "    <tr>\n",
       "      <th>2000-01-03</th>\n",
       "      <td>50.250000</td>\n",
       "      <td>48.083332</td>\n",
       "      <td>49.833332</td>\n",
       "      <td>48.583332</td>\n",
       "      <td>12019200.0</td>\n",
       "      <td>26.016140</td>\n",
       "    </tr>\n",
       "    <tr>\n",
       "      <th>2000-01-04</th>\n",
       "      <td>47.458332</td>\n",
       "      <td>46.125000</td>\n",
       "      <td>47.083332</td>\n",
       "      <td>47.250000</td>\n",
       "      <td>11723400.0</td>\n",
       "      <td>25.445301</td>\n",
       "    </tr>\n",
       "    <tr>\n",
       "      <th>2000-01-05</th>\n",
       "      <td>48.375000</td>\n",
       "      <td>46.000000</td>\n",
       "      <td>46.833332</td>\n",
       "      <td>46.958332</td>\n",
       "      <td>8714550.0</td>\n",
       "      <td>25.288227</td>\n",
       "    </tr>\n",
       "  </tbody>\n",
       "</table>\n",
       "</div>"
      ],
      "text/plain": [
       "                 High        Low       Open      Close      Volume  Adj Close\n",
       "Date                                                                         \n",
       "2000-01-03  50.250000  48.083332  49.833332  48.583332  12019200.0  26.016140\n",
       "2000-01-04  47.458332  46.125000  47.083332  47.250000  11723400.0  25.445301\n",
       "2000-01-05  48.375000  46.000000  46.833332  46.958332   8714550.0  25.288227"
      ]
     },
     "execution_count": 3,
     "metadata": {},
     "output_type": "execute_result"
    }
   ],
   "source": [
    "# Get data from yahoo portal\n",
    "jpm_df = web.DataReader(\"JPM\", 'yahoo',start, end)\n",
    "\n",
    "# Sample results\n",
    "jpm_df.head(3)"
   ]
  },
  {
   "cell_type": "code",
   "execution_count": 4,
   "metadata": {},
   "outputs": [
    {
     "data": {
      "text/html": [
       "<div>\n",
       "<style scoped>\n",
       "    .dataframe tbody tr th:only-of-type {\n",
       "        vertical-align: middle;\n",
       "    }\n",
       "\n",
       "    .dataframe tbody tr th {\n",
       "        vertical-align: top;\n",
       "    }\n",
       "\n",
       "    .dataframe thead th {\n",
       "        text-align: right;\n",
       "    }\n",
       "</style>\n",
       "<table border=\"1\" class=\"dataframe\">\n",
       "  <thead>\n",
       "    <tr style=\"text-align: right;\">\n",
       "      <th></th>\n",
       "      <th>High</th>\n",
       "      <th>Low</th>\n",
       "      <th>Open</th>\n",
       "      <th>Close</th>\n",
       "      <th>Volume</th>\n",
       "      <th>Adj Close</th>\n",
       "    </tr>\n",
       "    <tr>\n",
       "      <th>Date</th>\n",
       "      <th></th>\n",
       "      <th></th>\n",
       "      <th></th>\n",
       "      <th></th>\n",
       "      <th></th>\n",
       "      <th></th>\n",
       "    </tr>\n",
       "  </thead>\n",
       "  <tbody>\n",
       "    <tr>\n",
       "      <th>2020-12-08</th>\n",
       "      <td>122.330002</td>\n",
       "      <td>120.760002</td>\n",
       "      <td>121.040001</td>\n",
       "      <td>122.000000</td>\n",
       "      <td>9592100.0</td>\n",
       "      <td>121.127670</td>\n",
       "    </tr>\n",
       "    <tr>\n",
       "      <th>2020-12-09</th>\n",
       "      <td>123.300003</td>\n",
       "      <td>120.440002</td>\n",
       "      <td>123.169998</td>\n",
       "      <td>121.050003</td>\n",
       "      <td>13073900.0</td>\n",
       "      <td>120.184471</td>\n",
       "    </tr>\n",
       "    <tr>\n",
       "      <th>2020-12-10</th>\n",
       "      <td>120.779999</td>\n",
       "      <td>119.559998</td>\n",
       "      <td>119.989998</td>\n",
       "      <td>120.269997</td>\n",
       "      <td>13668400.0</td>\n",
       "      <td>119.410042</td>\n",
       "    </tr>\n",
       "  </tbody>\n",
       "</table>\n",
       "</div>"
      ],
      "text/plain": [
       "                  High         Low        Open       Close      Volume  \\\n",
       "Date                                                                     \n",
       "2020-12-08  122.330002  120.760002  121.040001  122.000000   9592100.0   \n",
       "2020-12-09  123.300003  120.440002  123.169998  121.050003  13073900.0   \n",
       "2020-12-10  120.779999  119.559998  119.989998  120.269997  13668400.0   \n",
       "\n",
       "             Adj Close  \n",
       "Date                    \n",
       "2020-12-08  121.127670  \n",
       "2020-12-09  120.184471  \n",
       "2020-12-10  119.410042  "
      ]
     },
     "execution_count": 4,
     "metadata": {},
     "output_type": "execute_result"
    }
   ],
   "source": [
    "# Check last records\n",
    "jpm_df.tail(3)"
   ]
  },
  {
   "cell_type": "code",
   "execution_count": null,
   "metadata": {},
   "outputs": [],
   "source": []
  },
  {
   "cell_type": "markdown",
   "metadata": {},
   "source": [
    "### Regression Model - I"
   ]
  },
  {
   "cell_type": "code",
   "execution_count": 5,
   "metadata": {},
   "outputs": [],
   "source": [
    "# Copy main stock df\n",
    "df = jpm_df.copy()"
   ]
  },
  {
   "cell_type": "code",
   "execution_count": 6,
   "metadata": {},
   "outputs": [],
   "source": [
    "# Convert dates into number of days as dates cannot be passed directly to the regression model\n",
    "df.index = (df.index - pd.to_datetime('2000-01-01')).days"
   ]
  },
  {
   "cell_type": "code",
   "execution_count": 7,
   "metadata": {},
   "outputs": [
    {
     "data": {
      "text/html": [
       "<div>\n",
       "<style scoped>\n",
       "    .dataframe tbody tr th:only-of-type {\n",
       "        vertical-align: middle;\n",
       "    }\n",
       "\n",
       "    .dataframe tbody tr th {\n",
       "        vertical-align: top;\n",
       "    }\n",
       "\n",
       "    .dataframe thead th {\n",
       "        text-align: right;\n",
       "    }\n",
       "</style>\n",
       "<table border=\"1\" class=\"dataframe\">\n",
       "  <thead>\n",
       "    <tr style=\"text-align: right;\">\n",
       "      <th></th>\n",
       "      <th>High</th>\n",
       "      <th>Low</th>\n",
       "      <th>Open</th>\n",
       "      <th>Close</th>\n",
       "      <th>Volume</th>\n",
       "      <th>Adj Close</th>\n",
       "    </tr>\n",
       "    <tr>\n",
       "      <th>Date</th>\n",
       "      <th></th>\n",
       "      <th></th>\n",
       "      <th></th>\n",
       "      <th></th>\n",
       "      <th></th>\n",
       "      <th></th>\n",
       "    </tr>\n",
       "  </thead>\n",
       "  <tbody>\n",
       "    <tr>\n",
       "      <th>2</th>\n",
       "      <td>50.250000</td>\n",
       "      <td>48.083332</td>\n",
       "      <td>49.833332</td>\n",
       "      <td>48.583332</td>\n",
       "      <td>12019200.0</td>\n",
       "      <td>26.016140</td>\n",
       "    </tr>\n",
       "    <tr>\n",
       "      <th>3</th>\n",
       "      <td>47.458332</td>\n",
       "      <td>46.125000</td>\n",
       "      <td>47.083332</td>\n",
       "      <td>47.250000</td>\n",
       "      <td>11723400.0</td>\n",
       "      <td>25.445301</td>\n",
       "    </tr>\n",
       "    <tr>\n",
       "      <th>4</th>\n",
       "      <td>48.375000</td>\n",
       "      <td>46.000000</td>\n",
       "      <td>46.833332</td>\n",
       "      <td>46.958332</td>\n",
       "      <td>8714550.0</td>\n",
       "      <td>25.288227</td>\n",
       "    </tr>\n",
       "  </tbody>\n",
       "</table>\n",
       "</div>"
      ],
      "text/plain": [
       "           High        Low       Open      Close      Volume  Adj Close\n",
       "Date                                                                   \n",
       "2     50.250000  48.083332  49.833332  48.583332  12019200.0  26.016140\n",
       "3     47.458332  46.125000  47.083332  47.250000  11723400.0  25.445301\n",
       "4     48.375000  46.000000  46.833332  46.958332   8714550.0  25.288227"
      ]
     },
     "execution_count": 7,
     "metadata": {},
     "output_type": "execute_result"
    }
   ],
   "source": [
    "# Check sample data\n",
    "df.head(3)"
   ]
  },
  {
   "cell_type": "code",
   "execution_count": 8,
   "metadata": {},
   "outputs": [],
   "source": [
    "# Convert the pandas series into numpy array\n",
    "X = np.asarray(df.index.values)\n",
    "y = np.asarray(df['Close'])"
   ]
  },
  {
   "cell_type": "code",
   "execution_count": 9,
   "metadata": {},
   "outputs": [],
   "source": [
    "# Model initialization \n",
    "reg_model = LinearRegression() "
   ]
  },
  {
   "cell_type": "code",
   "execution_count": 10,
   "metadata": {},
   "outputs": [
    {
     "data": {
      "text/plain": [
       "LinearRegression(copy_X=True, fit_intercept=True, n_jobs=None, normalize=False)"
      ]
     },
     "execution_count": 10,
     "metadata": {},
     "output_type": "execute_result"
    }
   ],
   "source": [
    "# Fit the data(train the model)\n",
    "reg_model.fit(X.reshape(-1, 1), y.reshape(-1, 1))"
   ]
  },
  {
   "cell_type": "code",
   "execution_count": 11,
   "metadata": {},
   "outputs": [],
   "source": [
    "# Prediction for historical dates. Let's call it predicted values by regression model\n",
    "y_pred = reg_model.predict(X.reshape(-1, 1))"
   ]
  },
  {
   "cell_type": "code",
   "execution_count": 12,
   "metadata": {},
   "outputs": [],
   "source": [
    "# Let's predict data for next two years or 730 days (365*2). Will need to add index range for future days \n",
    "futureindex = np.asarray(pd.RangeIndex(start=X[-1], stop=X[-1] + 730))"
   ]
  },
  {
   "cell_type": "code",
   "execution_count": 13,
   "metadata": {},
   "outputs": [],
   "source": [
    "# Predict stock value for the future dates \n",
    "y_future = reg_model.predict(futureindex.reshape(-1, 1))"
   ]
  },
  {
   "cell_type": "code",
   "execution_count": 14,
   "metadata": {},
   "outputs": [],
   "source": [
    "# Get last day of future stock prediction \n",
    "lastday = pd.to_datetime(futureindex[-1], origin='2000-01-01', unit='D',errors='coerce')"
   ]
  },
  {
   "cell_type": "code",
   "execution_count": 15,
   "metadata": {},
   "outputs": [
    {
     "name": "stdout",
     "output_type": "stream",
     "text": [
      "JPM stock predicted closing price on 2022-12-09 is $98.57\n"
     ]
    }
   ],
   "source": [
    "# Print the last predicted value\n",
    "print (f\"JPM stock predicted closing price on {str(lastday)[:10]} is ${round(y_future[-1][0],2)}\")"
   ]
  },
  {
   "cell_type": "code",
   "execution_count": 16,
   "metadata": {},
   "outputs": [],
   "source": [
    "# Convert the days index back to dates index for plotting the graph\n",
    "X = pd.to_datetime(df.index, origin='2000-01-01', unit='D')\n",
    "future_X = pd.to_datetime(futureindex, origin='2000-01-01', unit='D')"
   ]
  },
  {
   "cell_type": "code",
   "execution_count": 17,
   "metadata": {},
   "outputs": [
    {
     "data": {
      "image/png": "[encoded data removed]",
      "text/plain": [
       "<Figure size 1152x576 with 1 Axes>"
      ]
     },
     "metadata": {
      "needs_background": "light"
     },
     "output_type": "display_data"
    }
   ],
   "source": [
    "# Set plot figure size\n",
    "plt.figure(figsize=(16,8))\n",
    "\n",
    "# Plot the actual data\n",
    "plt.plot(X,df['Close'], label='Close Price History')\n",
    "\n",
    "# Plot the regression model line\n",
    "plt.plot(X,y_pred, color='r', label='Mathematical Model')\n",
    "\n",
    "# Plot the future predictions\n",
    "plt.plot(future_X,y_future, color='g', label='Future predictions')\n",
    "\n",
    "# Label the chart\n",
    "plt.title('JPM Stock Price Predictions', fontsize=16)\n",
    "plt.xlabel('Year')\n",
    "plt.ylabel('Stock Price $')\n",
    "\n",
    "# Show legends\n",
    "plt.legend()\n",
    "\n",
    "# Show the chart\n",
    "plt.show()"
   ]
  },
  {
   "cell_type": "markdown",
   "metadata": {},
   "source": [
    "#### The coefficient of determination (𝑅²):\n",
    "It gives amount of variation in y can be explained by the dependence on X using the particular regression model. \n",
    "Larger 𝑅² indicates a better fit and means that the model can better explain the variation of the output with different inputs.\n",
    "\n",
    "The value 𝑅² = 1 corresponds to the sum of squared residuals (SSR) = 0, that is to the perfect fit since the values of predicted and actual responses fit completely to each other."
   ]
  },
  {
   "cell_type": "code",
   "execution_count": 18,
   "metadata": {},
   "outputs": [
    {
     "name": "stdout",
     "output_type": "stream",
     "text": [
      "Coefficient of determination: 0.61\n"
     ]
    }
   ],
   "source": [
    "# Print Coefficient of determination \n",
    "print('Coefficient of determination:',round(metrics.r2_score(y, y_pred),2))"
   ]
  },
  {
   "cell_type": "code",
   "execution_count": 19,
   "metadata": {},
   "outputs": [
    {
     "name": "stdout",
     "output_type": "stream",
     "text": [
      "Linear regression equation is: Y = 0.01 * X +  19.87\n"
     ]
    }
   ],
   "source": [
    "print(\"Linear regression equation is: Y =\",round(reg_model.coef_[0][0],2), \"* X + \", round(reg_model.intercept_[0],2))"
   ]
  },
  {
   "cell_type": "markdown",
   "metadata": {},
   "source": [
    "#### RMSE (root-mean-square error):\n",
    "The most commonly used metric for regression tasks is RMSE (root-mean-square error). This is defined as the square root of the average squared distance between the actual score and the predicted score:"
   ]
  },
  {
   "cell_type": "code",
   "execution_count": 20,
   "metadata": {},
   "outputs": [
    {
     "name": "stdout",
     "output_type": "stream",
     "text": [
      "RMSE (root-mean-square error) is: 16.75\n"
     ]
    }
   ],
   "source": [
    "print(\"RMSE (root-mean-square error) is:\",round(np.sqrt(metrics.mean_squared_error(y, y_pred)),2))"
   ]
  },
  {
   "cell_type": "markdown",
   "metadata": {},
   "source": [
    "#### Mean Squared Error:\n",
    "Mean Squared Error is difference between of the estimated values and what you get as a result. The predicted value is based on some equation and tell what you will expect as an average but the result you get might differ from this prediction which is a slight error from the estimated value. This difference is called MSE. This determines how good is the estimation based on your equation."
   ]
  },
  {
   "cell_type": "code",
   "execution_count": 21,
   "metadata": {},
   "outputs": [
    {
     "name": "stdout",
     "output_type": "stream",
     "text": [
      "Mean Squared Error is: 280.58\n"
     ]
    }
   ],
   "source": [
    "print(\"Mean Squared Error is:\", round(metrics.mean_squared_error(y, y_pred),2))"
   ]
  },
  {
   "cell_type": "markdown",
   "metadata": {},
   "source": [
    "#### Mean Absolute Error:\n",
    "Mean Absolute Error is the measure of the difference between the two continuous variables. The MAE is the average vertical distance between each actual value and the line that best matches the data. MAE is also the average horizontal distance between each data point and the best matching line."
   ]
  },
  {
   "cell_type": "code",
   "execution_count": 22,
   "metadata": {},
   "outputs": [
    {
     "name": "stdout",
     "output_type": "stream",
     "text": [
      "Mean Absolute Error is: 13.46\n"
     ]
    }
   ],
   "source": [
    "print(\"Mean Absolute Error is:\" , round(metrics.mean_absolute_error(y, y_pred),2))"
   ]
  },
  {
   "cell_type": "markdown",
   "metadata": {},
   "source": [
    "#### Conclusion:\n",
    "\n",
    "X-axis of the graph shows the dates from year 2002 through 2020 and the Y-axis shows the market closing price.\n",
    "\n",
    "The graph in the blue color displays the close price history from year 2002 to year 2020. The graph in the red represents the best fit linear equation for the known data. The graph in the green is the future predictions for next two years.\n",
    "\n",
    "As we know linear regression line has positive slope means price will go up which is simply not realistic. Note that we have used only date as feature to predict the stock price. A simple linear equation with first degree polynomial y = mx + c cannot realistically mimic the stock market behavior.  "
   ]
  },
  {
   "cell_type": "code",
   "execution_count": null,
   "metadata": {},
   "outputs": [],
   "source": []
  },
  {
   "cell_type": "markdown",
   "metadata": {},
   "source": [
    "### Polynomial Regression Model"
   ]
  },
  {
   "cell_type": "markdown",
   "metadata": {},
   "source": [
    "Polynomial regression fits a nonlinear relationship between the independent variable values and the corresponding conditional mean of  dependent variable. \n",
    "\n",
    "Let's try polynomial equation of degree three as a mathematical model.  Let's see, how does it perform and what are its predictions. The equation of degree three is 𝑓(𝑥) = 𝑏₀ + 𝑏₁𝑥 + 𝑏₂𝑥² + 𝑏₃𝑥³ "
   ]
  },
  {
   "cell_type": "code",
   "execution_count": 23,
   "metadata": {},
   "outputs": [],
   "source": [
    "# Import polynomial regression\n",
    "from sklearn.preprocessing import PolynomialFeatures"
   ]
  },
  {
   "cell_type": "code",
   "execution_count": 24,
   "metadata": {},
   "outputs": [],
   "source": [
    "# Copy main stock df\n",
    "df = jpm_df.copy()"
   ]
  },
  {
   "cell_type": "code",
   "execution_count": 25,
   "metadata": {},
   "outputs": [],
   "source": [
    "# Convert dates into number of days as dates cannot be passed directly to the regression model\n",
    "df.index = (df.index - pd.to_datetime('2000-01-01')).days"
   ]
  },
  {
   "cell_type": "code",
   "execution_count": 26,
   "metadata": {},
   "outputs": [],
   "source": [
    "# Convert the pandas series into numpy array, we need to further massage it before sending it to regression model\n",
    "X = np.asarray(df.index.values)\n",
    "y = np.asarray(df['Close'])"
   ]
  },
  {
   "cell_type": "code",
   "execution_count": 27,
   "metadata": {},
   "outputs": [
    {
     "data": {
      "text/html": [
       "<div>\n",
       "<style scoped>\n",
       "    .dataframe tbody tr th:only-of-type {\n",
       "        vertical-align: middle;\n",
       "    }\n",
       "\n",
       "    .dataframe tbody tr th {\n",
       "        vertical-align: top;\n",
       "    }\n",
       "\n",
       "    .dataframe thead th {\n",
       "        text-align: right;\n",
       "    }\n",
       "</style>\n",
       "<table border=\"1\" class=\"dataframe\">\n",
       "  <thead>\n",
       "    <tr style=\"text-align: right;\">\n",
       "      <th></th>\n",
       "      <th>High</th>\n",
       "      <th>Low</th>\n",
       "      <th>Open</th>\n",
       "      <th>Close</th>\n",
       "      <th>Volume</th>\n",
       "      <th>Adj Close</th>\n",
       "    </tr>\n",
       "    <tr>\n",
       "      <th>Date</th>\n",
       "      <th></th>\n",
       "      <th></th>\n",
       "      <th></th>\n",
       "      <th></th>\n",
       "      <th></th>\n",
       "      <th></th>\n",
       "    </tr>\n",
       "  </thead>\n",
       "  <tbody>\n",
       "    <tr>\n",
       "      <th>2</th>\n",
       "      <td>50.250000</td>\n",
       "      <td>48.083332</td>\n",
       "      <td>49.833332</td>\n",
       "      <td>48.583332</td>\n",
       "      <td>12019200.0</td>\n",
       "      <td>26.016140</td>\n",
       "    </tr>\n",
       "    <tr>\n",
       "      <th>3</th>\n",
       "      <td>47.458332</td>\n",
       "      <td>46.125000</td>\n",
       "      <td>47.083332</td>\n",
       "      <td>47.250000</td>\n",
       "      <td>11723400.0</td>\n",
       "      <td>25.445301</td>\n",
       "    </tr>\n",
       "    <tr>\n",
       "      <th>4</th>\n",
       "      <td>48.375000</td>\n",
       "      <td>46.000000</td>\n",
       "      <td>46.833332</td>\n",
       "      <td>46.958332</td>\n",
       "      <td>8714550.0</td>\n",
       "      <td>25.288227</td>\n",
       "    </tr>\n",
       "    <tr>\n",
       "      <th>5</th>\n",
       "      <td>48.625000</td>\n",
       "      <td>46.500000</td>\n",
       "      <td>46.750000</td>\n",
       "      <td>47.625000</td>\n",
       "      <td>8369250.0</td>\n",
       "      <td>25.647249</td>\n",
       "    </tr>\n",
       "    <tr>\n",
       "      <th>6</th>\n",
       "      <td>49.000000</td>\n",
       "      <td>47.333332</td>\n",
       "      <td>48.416668</td>\n",
       "      <td>48.500000</td>\n",
       "      <td>6571950.0</td>\n",
       "      <td>26.118444</td>\n",
       "    </tr>\n",
       "  </tbody>\n",
       "</table>\n",
       "</div>"
      ],
      "text/plain": [
       "           High        Low       Open      Close      Volume  Adj Close\n",
       "Date                                                                   \n",
       "2     50.250000  48.083332  49.833332  48.583332  12019200.0  26.016140\n",
       "3     47.458332  46.125000  47.083332  47.250000  11723400.0  25.445301\n",
       "4     48.375000  46.000000  46.833332  46.958332   8714550.0  25.288227\n",
       "5     48.625000  46.500000  46.750000  47.625000   8369250.0  25.647249\n",
       "6     49.000000  47.333332  48.416668  48.500000   6571950.0  26.118444"
      ]
     },
     "execution_count": 27,
     "metadata": {},
     "output_type": "execute_result"
    }
   ],
   "source": [
    "df.head()"
   ]
  },
  {
   "cell_type": "code",
   "execution_count": 28,
   "metadata": {},
   "outputs": [],
   "source": [
    "# Choose the 3rd degree polynomial \n",
    "poly_model = PolynomialFeatures(3)"
   ]
  },
  {
   "cell_type": "code",
   "execution_count": 29,
   "metadata": {},
   "outputs": [],
   "source": [
    "# Convert dimension X in the higher degree polynomial expression\n",
    "X_transform = poly_model.fit_transform(X.reshape(-1, 1))"
   ]
  },
  {
   "cell_type": "code",
   "execution_count": 30,
   "metadata": {},
   "outputs": [
    {
     "data": {
      "text/plain": [
       "LinearRegression(copy_X=True, fit_intercept=True, n_jobs=None, normalize=False)"
      ]
     },
     "execution_count": 30,
     "metadata": {},
     "output_type": "execute_result"
    }
   ],
   "source": [
    "# Fit the data to train the model\n",
    "reg_model.fit(X_transform, y.reshape(-1, 1))"
   ]
  },
  {
   "cell_type": "code",
   "execution_count": 31,
   "metadata": {},
   "outputs": [],
   "source": [
    "# Prediction of available historical data \n",
    "y_pred = reg_model.predict(X_transform)"
   ]
  },
  {
   "cell_type": "code",
   "execution_count": 32,
   "metadata": {},
   "outputs": [],
   "source": [
    "# Let's predict data for next two years or 730 days (365*2). Will need to add index range for future days \n",
    "futureindex = np.asarray(pd.RangeIndex(start=X[-1], stop=X[-1] + 730))"
   ]
  },
  {
   "cell_type": "code",
   "execution_count": 33,
   "metadata": {},
   "outputs": [],
   "source": [
    "# Convert the extended dimension x in the higher degree polynomial expression\n",
    "X_extended_transform = poly_model.fit_transform(futureindex.reshape(-1, 1))"
   ]
  },
  {
   "cell_type": "code",
   "execution_count": 34,
   "metadata": {},
   "outputs": [],
   "source": [
    "# Prediction for future dates\n",
    "y_future = reg_model.predict(X_extended_transform)"
   ]
  },
  {
   "cell_type": "code",
   "execution_count": 35,
   "metadata": {},
   "outputs": [
    {
     "name": "stdout",
     "output_type": "stream",
     "text": [
      "JPM stock predicted closing price on 2022-12-09 is $159.13\n"
     ]
    }
   ],
   "source": [
    "# Print the last predicted value\n",
    "print (f\"JPM stock predicted closing price on {str(lastday)[:10]} is ${round(y_future[-1][0],2)}\")"
   ]
  },
  {
   "cell_type": "code",
   "execution_count": 36,
   "metadata": {},
   "outputs": [],
   "source": [
    "# Convert the days index back to dates index for plotting the graph\n",
    "X = pd.to_datetime(df.index, origin='2000-01-01', unit='D')\n",
    "future_X = pd.to_datetime(futureindex, origin='2000-01-01', unit='D')"
   ]
  },
  {
   "cell_type": "code",
   "execution_count": 37,
   "metadata": {},
   "outputs": [
    {
     "data": {
      "image/png": "[encoded data removed]",
      "text/plain": [
       "<Figure size 1152x576 with 1 Axes>"
      ]
     },
     "metadata": {
      "needs_background": "light"
     },
     "output_type": "display_data"
    }
   ],
   "source": [
    "# Set plot figure size\n",
    "plt.figure(figsize=(16,8))\n",
    "\n",
    "# Plot the actual data\n",
    "plt.plot(X,df['Close'], label='Close Price History')\n",
    "\n",
    "# Plot the regression model line\n",
    "plt.plot(X,y_pred, color='r', label='Mathematical Model')\n",
    "\n",
    "# Plot the future predictions\n",
    "plt.plot(future_X,y_future, color='g', label='Future predictions')\n",
    "\n",
    "# Label the chart\n",
    "plt.title('JPM Stock Price Predictions', fontsize=16)\n",
    "plt.xlabel('Year')\n",
    "plt.ylabel('Stock Price $')\n",
    "\n",
    "# Show legends\n",
    "plt.legend()\n",
    "\n",
    "# Show the chart\n",
    "plt.show()"
   ]
  },
  {
   "cell_type": "code",
   "execution_count": 38,
   "metadata": {},
   "outputs": [
    {
     "name": "stdout",
     "output_type": "stream",
     "text": [
      "Coefficient of determination: 0.87\n"
     ]
    }
   ],
   "source": [
    "print('Coefficient of determination:',round(metrics.r2_score(y, y_pred),2))"
   ]
  },
  {
   "cell_type": "code",
   "execution_count": 39,
   "metadata": {},
   "outputs": [
    {
     "name": "stdout",
     "output_type": "stream",
     "text": [
      "RMSE (root-mean-square error) is: 9.59\n"
     ]
    }
   ],
   "source": [
    "print(\"RMSE (root-mean-square error) is:\",round(np.sqrt(metrics.mean_squared_error(y, y_pred)),2))"
   ]
  },
  {
   "cell_type": "code",
   "execution_count": 40,
   "metadata": {},
   "outputs": [
    {
     "name": "stdout",
     "output_type": "stream",
     "text": [
      "Mean Squared Error is: 92.02\n"
     ]
    }
   ],
   "source": [
    "print(\"Mean Squared Error is:\", round(metrics.mean_squared_error(y, y_pred),2))"
   ]
  },
  {
   "cell_type": "code",
   "execution_count": 41,
   "metadata": {},
   "outputs": [
    {
     "name": "stdout",
     "output_type": "stream",
     "text": [
      "Mean Absolute Error is: 7.19\n"
     ]
    }
   ],
   "source": [
    "print(\"Mean Absolute Error is:\" , round(metrics.mean_absolute_error(y, y_pred),2))"
   ]
  },
  {
   "cell_type": "markdown",
   "metadata": {},
   "source": [
    "#### Conclusion:\n",
    "\n",
    "JPM stock predicted closing price on 2022-12-09 is $159.13\n",
    " \n",
    "I think, we have moved little bit closer to the reality in terms of fitting the curve. \n",
    "\n",
    "Will this be reality? Probably not, let's to look at the techniques like FB prophet, ARIMA or LSTM that specific to time series data predictions.  "
   ]
  },
  {
   "cell_type": "code",
   "execution_count": null,
   "metadata": {},
   "outputs": [],
   "source": []
  }
 ],
 "metadata": {
  "kernelspec": {
   "display_name": "Python 3",
   "language": "python",
   "name": "python3"
  },
  "language_info": {
   "codemirror_mode": {
    "name": "ipython",
    "version": 3
   },
   "file_extension": ".py",
   "mimetype": "text/x-python",
   "name": "python",
   "nbconvert_exporter": "python",
   "pygments_lexer": "ipython3",
   "version": "3.7.6"
  }
 },
 "nbformat": 4,
 "nbformat_minor": 4
}
